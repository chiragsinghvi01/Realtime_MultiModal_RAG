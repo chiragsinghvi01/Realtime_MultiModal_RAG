{
 "cells": [
  {
   "cell_type": "code",
   "execution_count": 3,
   "id": "6baf3b8a",
   "metadata": {},
   "outputs": [],
   "source": [
    "from unstructured.partition.pdf import partition_pdf"
   ]
  },
  {
   "cell_type": "code",
   "execution_count": null,
   "id": "b1c9d415",
   "metadata": {},
   "outputs": [],
   "source": [
    "raw_pdf_elements0 = partition_pdf(\n",
    "    filename=r\"C:\\Users\\csing\\VSCode\\Projects\\Realtime_MultiModal_RAG\\data0\\2005_11401v4.pdf\",\n",
    "    strategy=\"hi_res\",\n",
    "    extract_images_in_pdf=True,\n",
    "    extract_image_block_types=[\"figure\", \"table\"],\n",
    "    extract_image_block_to_payload=False,\n",
    "    extract_image_block_output_dir=\"extracted_data0\"\n",
    ")"
   ]
  },
  {
   "cell_type": "code",
   "execution_count": null,
   "id": "08eea15e",
   "metadata": {},
   "outputs": [],
   "source": [
    "raw_pdf_elements0"
   ]
  },
  {
   "cell_type": "code",
   "execution_count": 19,
   "id": "b93aa322",
   "metadata": {},
   "outputs": [],
   "source": [
    "Header = []\n",
    "Footer = []\n",
    "Title = []\n",
    "Text = []\n",
    "ListItem = []\n",
    "NarrativeText = []\n",
    "\n",
    "for element in raw_pdf_elements0:\n",
    "    if \"unstructured.documents.elements.Header\" in str(type(element)):\n",
    "        Header.append(str(element))\n",
    "    elif \"unstructured.documents.elements.Footer\" in str(type(element)):\n",
    "        Footer.append(str(element))\n",
    "    elif \"unstructured.documents.elements.Title\" in str(type(element)):\n",
    "        Title.append(str(element))\n",
    "    elif \"unstructured.documents.elements.Text\" in str(type(element)):\n",
    "        Text.append(str(element))\n",
    "    elif \"unstructured.documents.elements.ListItem\" in str(type(element)):\n",
    "        ListItem.append(str(element))\n",
    "    elif \"unstructured.documents.elements.NarrativeText\" in str(type(element)):\n",
    "        NarrativeText.append(str(element))"
   ]
  },
  {
   "cell_type": "code",
   "execution_count": null,
   "id": "8967ab73",
   "metadata": {},
   "outputs": [],
   "source": [
    "Title"
   ]
  },
  {
   "cell_type": "code",
   "execution_count": null,
   "id": "89dc13bb",
   "metadata": {},
   "outputs": [],
   "source": [
    "Image = []\n",
    "for element in raw_pdf_elements0:\n",
    "    if \"unstructured.documents.elements.Image\" in str(type(element)):\n",
    "        Image.append(str(element))"
   ]
  },
  {
   "cell_type": "code",
   "execution_count": null,
   "id": "2db7fd79",
   "metadata": {},
   "outputs": [
    {
     "name": "stdout",
     "output_type": "stream",
     "text": [
      "Warning: No languages specified, defaulting to English.\n"
     ]
    }
   ],
   "source": [
    "raw_pdf_elements1 = partition_pdf(\n",
    "    filename=r\"C:\\Users\\csing\\VSCode\\Projects\\Realtime_MultiModal_RAG\\data1\\Clouded_Judgement_8125.pdf\",\n",
    "    strategy=\"hi_res\",\n",
    "    extract_images_in_pdf=True,\n",
    "    extract_image_block_types=[\"figure\", \"table\"],\n",
    "    extract_image_block_to_payload=False,\n",
    "    extract_image_block_output_dir=\"extracted_data1\"\n",
    ")"
   ]
  },
  {
   "cell_type": "code",
   "execution_count": null,
   "id": "f0917b31",
   "metadata": {},
   "outputs": [],
   "source": [
    "raw_pdf_elements1"
   ]
  },
  {
   "cell_type": "code",
   "execution_count": null,
   "id": "0725c44a",
   "metadata": {},
   "outputs": [],
   "source": [
    "Title = []\n",
    "Text = []\n",
    "ListItem = []\n",
    "NarrativeText = []\n",
    "\n",
    "for element in raw_pdf_elements1:\n",
    "    if \"unstructured.documents.elements.Title\" in str(type(element)):\n",
    "        Title.append(str(element))\n",
    "    elif \"unstructured.documents.elements.Text\" in str(type(element)):\n",
    "        Text.append(str(element))\n",
    "    elif \"unstructured.documents.elements.ListItem\" in str(type(element)):\n",
    "        ListItem.append(str(element))\n",
    "    elif \"unstructured.documents.elements.NarrativeText\" in str(type(element)):\n",
    "        NarrativeText.append(str(element))"
   ]
  },
  {
   "cell_type": "code",
   "execution_count": null,
   "id": "b2280543",
   "metadata": {},
   "outputs": [],
   "source": [
    "Title"
   ]
  },
  {
   "cell_type": "code",
   "execution_count": null,
   "id": "957cf62d",
   "metadata": {},
   "outputs": [],
   "source": [
    "Image = []\n",
    "for element in raw_pdf_elements1:\n",
    "    if \"unstructured.documents.elements.Image\" in str(type(element)):\n",
    "        Image.append(str(element))"
   ]
  },
  {
   "cell_type": "code",
   "execution_count": null,
   "id": "f93de555",
   "metadata": {},
   "outputs": [],
   "source": [
    "Image"
   ]
  }
 ],
 "metadata": {
  "kernelspec": {
   "display_name": "Python 3",
   "language": "python",
   "name": "python3"
  },
  "language_info": {
   "codemirror_mode": {
    "name": "ipython",
    "version": 3
   },
   "file_extension": ".py",
   "mimetype": "text/x-python",
   "name": "python",
   "nbconvert_exporter": "python",
   "pygments_lexer": "ipython3",
   "version": "3.13.5"
  }
 },
 "nbformat": 4,
 "nbformat_minor": 5
}
